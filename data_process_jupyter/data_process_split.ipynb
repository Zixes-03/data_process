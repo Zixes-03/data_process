{
 "cells": [
  {
   "cell_type": "code",
   "execution_count": 2,
   "metadata": {},
   "outputs": [],
   "source": [
    "import mars.dataframe as md # https://pypi.org/project/pymars/\n",
    "import pandas as pd\n",
    "from datetime import datetime\n",
    "import time\n",
    "from multiprocessing import Pool\n",
    "import os"
   ]
  },
  {
   "cell_type": "code",
   "execution_count": 3,
   "metadata": {},
   "outputs": [],
   "source": [
    "data_path = \"F:/Projects/Python/data_process/csv/tg_zd_machine-04.csv\"\n",
    "data_tianzheng_all = md.read_csv(data_path).to_pandas()\n",
    "data_tianzheng_all.index = pd.DatetimeIndex(data_tianzheng_all[\"UPDATE_DATE\"])\n",
    "data_tianzheng_all = data_tianzheng_all.sort_index()"
   ]
  },
  {
   "cell_type": "code",
   "execution_count": 84,
   "metadata": {
    "scrolled": true
   },
   "outputs": [
    {
     "data": {
      "text/html": [
       "<div>\n",
       "<style scoped>\n",
       "    .dataframe tbody tr th:only-of-type {\n",
       "        vertical-align: middle;\n",
       "    }\n",
       "\n",
       "    .dataframe tbody tr th {\n",
       "        vertical-align: top;\n",
       "    }\n",
       "\n",
       "    .dataframe thead th {\n",
       "        text-align: right;\n",
       "    }\n",
       "</style>\n",
       "<table border=\"1\" class=\"dataframe\">\n",
       "  <thead>\n",
       "    <tr style=\"text-align: right;\">\n",
       "      <th></th>\n",
       "      <th>MACHINE_ID</th>\n",
       "      <th>ONTIME</th>\n",
       "      <th>WORKTIME</th>\n",
       "      <th>STOPTIME</th>\n",
       "      <th>QTY</th>\n",
       "      <th>PASS_QTY</th>\n",
       "      <th>REJECTS_QTY</th>\n",
       "      <th>BEAT</th>\n",
       "      <th>EFFICIENCY</th>\n",
       "      <th>STATUS</th>\n",
       "      <th>UPDATE_DATE</th>\n",
       "      <th>PDLINE_ID</th>\n",
       "    </tr>\n",
       "    <tr>\n",
       "      <th>UPDATE_DATE</th>\n",
       "      <th></th>\n",
       "      <th></th>\n",
       "      <th></th>\n",
       "      <th></th>\n",
       "      <th></th>\n",
       "      <th></th>\n",
       "      <th></th>\n",
       "      <th></th>\n",
       "      <th></th>\n",
       "      <th></th>\n",
       "      <th></th>\n",
       "      <th></th>\n",
       "    </tr>\n",
       "  </thead>\n",
       "  <tbody>\n",
       "    <tr>\n",
       "      <th>2020-04-01 07:17:41</th>\n",
       "      <td>10</td>\n",
       "      <td>23</td>\n",
       "      <td>0</td>\n",
       "      <td>23</td>\n",
       "      <td>0</td>\n",
       "      <td>NaN</td>\n",
       "      <td>0.0</td>\n",
       "      <td>409</td>\n",
       "      <td>0.0</td>\n",
       "      <td>0</td>\n",
       "      <td>2020/4/1 7:17:41</td>\n",
       "      <td>NaN</td>\n",
       "    </tr>\n",
       "    <tr>\n",
       "      <th>2020-04-01 07:18:05</th>\n",
       "      <td>10</td>\n",
       "      <td>47</td>\n",
       "      <td>0</td>\n",
       "      <td>47</td>\n",
       "      <td>0</td>\n",
       "      <td>NaN</td>\n",
       "      <td>0.0</td>\n",
       "      <td>409</td>\n",
       "      <td>0.0</td>\n",
       "      <td>0</td>\n",
       "      <td>2020/4/1 7:18:05</td>\n",
       "      <td>NaN</td>\n",
       "    </tr>\n",
       "    <tr>\n",
       "      <th>2020-04-01 07:19:13</th>\n",
       "      <td>11</td>\n",
       "      <td>88</td>\n",
       "      <td>0</td>\n",
       "      <td>88</td>\n",
       "      <td>0</td>\n",
       "      <td>NaN</td>\n",
       "      <td>0.0</td>\n",
       "      <td>33</td>\n",
       "      <td>0.0</td>\n",
       "      <td>0</td>\n",
       "      <td>2020/4/1 7:19:13</td>\n",
       "      <td>NaN</td>\n",
       "    </tr>\n",
       "    <tr>\n",
       "      <th>2020-04-01 07:19:17</th>\n",
       "      <td>3</td>\n",
       "      <td>146</td>\n",
       "      <td>0</td>\n",
       "      <td>0</td>\n",
       "      <td>0</td>\n",
       "      <td>NaN</td>\n",
       "      <td>0.0</td>\n",
       "      <td>139</td>\n",
       "      <td>0.0</td>\n",
       "      <td>0</td>\n",
       "      <td>2020/4/1 7:19:17</td>\n",
       "      <td>NaN</td>\n",
       "    </tr>\n",
       "    <tr>\n",
       "      <th>2020-04-01 07:19:30</th>\n",
       "      <td>12</td>\n",
       "      <td>0</td>\n",
       "      <td>0</td>\n",
       "      <td>0</td>\n",
       "      <td>0</td>\n",
       "      <td>NaN</td>\n",
       "      <td>0.0</td>\n",
       "      <td>3809</td>\n",
       "      <td>0.0</td>\n",
       "      <td>0</td>\n",
       "      <td>2020/4/1 7:19:30</td>\n",
       "      <td>NaN</td>\n",
       "    </tr>\n",
       "  </tbody>\n",
       "</table>\n",
       "</div>"
      ],
      "text/plain": [
       "                     MACHINE_ID  ONTIME  WORKTIME  STOPTIME  QTY  PASS_QTY  \\\n",
       "UPDATE_DATE                                                                  \n",
       "2020-04-01 07:17:41          10      23         0        23    0       NaN   \n",
       "2020-04-01 07:18:05          10      47         0        47    0       NaN   \n",
       "2020-04-01 07:19:13          11      88         0        88    0       NaN   \n",
       "2020-04-01 07:19:17           3     146         0         0    0       NaN   \n",
       "2020-04-01 07:19:30          12       0         0         0    0       NaN   \n",
       "\n",
       "                     REJECTS_QTY  BEAT  EFFICIENCY  STATUS       UPDATE_DATE  \\\n",
       "UPDATE_DATE                                                                    \n",
       "2020-04-01 07:17:41          0.0   409         0.0       0  2020/4/1 7:17:41   \n",
       "2020-04-01 07:18:05          0.0   409         0.0       0  2020/4/1 7:18:05   \n",
       "2020-04-01 07:19:13          0.0    33         0.0       0  2020/4/1 7:19:13   \n",
       "2020-04-01 07:19:17          0.0   139         0.0       0  2020/4/1 7:19:17   \n",
       "2020-04-01 07:19:30          0.0  3809         0.0       0  2020/4/1 7:19:30   \n",
       "\n",
       "                     PDLINE_ID  \n",
       "UPDATE_DATE                     \n",
       "2020-04-01 07:17:41        NaN  \n",
       "2020-04-01 07:18:05        NaN  \n",
       "2020-04-01 07:19:13        NaN  \n",
       "2020-04-01 07:19:17        NaN  \n",
       "2020-04-01 07:19:30        NaN  "
      ]
     },
     "execution_count": 84,
     "metadata": {},
     "output_type": "execute_result"
    }
   ],
   "source": [
    "data_tianzheng_all.head()"
   ]
  },
  {
   "cell_type": "code",
   "execution_count": 85,
   "metadata": {},
   "outputs": [
    {
     "data": {
      "text/plain": [
       "5537184"
      ]
     },
     "execution_count": 85,
     "metadata": {},
     "output_type": "execute_result"
    }
   ],
   "source": [
    "# 总数据大小\n",
    "data_tianzheng_all.shape[0]"
   ]
  },
  {
   "cell_type": "code",
   "execution_count": 14,
   "metadata": {},
   "outputs": [
    {
     "name": "stdout",
     "output_type": "stream",
     "text": [
      "length of assembly line data:3069551\n",
      "length of checking line data:2467633\n"
     ]
    }
   ],
   "source": [
    "# 拆分装配线以及检测线\n",
    "data_tianzheng_assembly = data_tianzheng_all.loc[data_tianzheng_all.PDLINE_ID.notnull()]\n",
    "data_tianzheng_checking = data_tianzheng_all.loc[data_tianzheng_all.PDLINE_ID.isnull()]\n",
    "print(\"length of assembly line data:{0}\".format(data_tianzheng_assembly.shape[0]))\n",
    "print(\"length of checking line data:{0}\".format(data_tianzheng_checking.shape[0]))"
   ]
  },
  {
   "cell_type": "code",
   "execution_count": 70,
   "metadata": {},
   "outputs": [],
   "source": [
    "# 拆分数据输出.csv\n",
    "def split_csv(data_csv):\n",
    "    if(2 in data_csv[\"PDLINE_ID\"].values.tolist()):\n",
    "        for i in range(1,13):\n",
    "            output = data_csv[data_csv[\"MACHINE_ID\"].isin([i])]\n",
    "            output.to_csv('F:/Projects/Python/data_process/csv/splited_data/data_tianzheng_assembly_{0}.csv'.format(i),\n",
    "                          index=None)\n",
    "    else:\n",
    "        for i in range(1,13):\n",
    "            output = data_csv[data_csv[\"MACHINE_ID\"].isin([i])]\n",
    "            output.to_csv('F:/Projects/Python/data_process/csv/splited_data/data_tianzheng_checking_{0}.csv'.format(i),\n",
    "                          index=None)          "
   ]
  },
  {
   "cell_type": "code",
   "execution_count": 71,
   "metadata": {},
   "outputs": [],
   "source": [
    "# 输出.csv别手贱运行！\n",
    "# split_csv(data_tianzheng_assembly)\n",
    "# split_csv(data_tianzheng_checking)"
   ]
  },
  {
   "cell_type": "code",
   "execution_count": 194,
   "metadata": {},
   "outputs": [
    {
     "name": "stdout",
     "output_type": "stream",
     "text": [
      "304524\n"
     ]
    }
   ],
   "source": [
    "# 输入一个拆分后的数据\n",
    "data_tianzheng_assembly = md.read_csv('F:/Projects/Python/data_process/csv/splited_data/data_tianzheng_assembly_2.csv').to_pandas()\n",
    "data_tianzheng_assembly.index = pd.DatetimeIndex(data_tianzheng_assembly[\"UPDATE_DATE\"])\n",
    "print(data_tianzheng_assembly.shape[0])"
   ]
  },
  {
   "cell_type": "code",
   "execution_count": 10,
   "metadata": {},
   "outputs": [],
   "source": [
    "# 丢弃工作时间错误的数据\n",
    "def process_error_data_01(data):   \n",
    "    for index, row in data.iterrows():\n",
    "        if row['ONTIME'] != row['WORKTIME'] + row['STOPTIME']:\n",
    "#             print(index, row['MACHINE_ID'] ,row['PDLINE_ID'])\n",
    "            data.drop(index = index, axis=0, inplace=True)"
   ]
  },
  {
   "cell_type": "code",
   "execution_count": 11,
   "metadata": {},
   "outputs": [
    {
     "name": "stdout",
     "output_type": "stream",
     "text": [
      "Processing time 214.02 seconds.\n"
     ]
    }
   ],
   "source": [
    "# 单核处理\n",
    "start = time.time()\n",
    "process_error_data_01(data_tianzheng_assembly)\n",
    "end = time.time()\n",
    "print('Processing time %0.2f seconds.' % (end - start))"
   ]
  },
  {
   "cell_type": "code",
   "execution_count": 175,
   "metadata": {},
   "outputs": [],
   "source": [
    "# 得到文件中的日期\n",
    "# https://www.cnblogs.com/nxf-rabbit75/p/10662025.html\n",
    "def get_date_list(data):\n",
    "    process_data = data.copy()\n",
    "    process_data = process_data.resample('D').mean()\n",
    "    process_data = process_data.dropna(axis=0,how=\"all\")\n",
    "    process_date_list = process_data.index.strftime('%Y-%m-%d').tolist() # https://www.runoob.com/python/att-time-strftime.html\n",
    "\n",
    "    #  用完删除，释放内存\n",
    "    del process_data\n",
    "    import gc\n",
    "    gc.collect()\n",
    "    \n",
    "    return process_date_list"
   ]
  },
  {
   "cell_type": "code",
   "execution_count": 192,
   "metadata": {},
   "outputs": [],
   "source": [
    "# 判断后一天开始时的QTY是否清零，即是否小于前一天结束时的QTY\n",
    "def process_error_data_02(data, date_list):\n",
    "    error = False\n",
    "    for i in range(len(date_list)-1):\n",
    "        QTY_01 = int(data.loc[date_list[i]][-1:]['QTY'])\n",
    "        QTY_02 = int(data.loc[date_list[i+1]][:1]['QTY'])\n",
    "        if QTY_02 >= QTY_01:\n",
    "            print(\"QTY of the day before:\\n\",data.loc[date_list[i]][-1:][['QTY']],'\\n')\n",
    "            print(\"QTY of the day after:\\n\",data.loc[date_list[i+1]][:1][['QTY']],'\\n')\n",
    "            error = True\n",
    "    if error == False:\n",
    "        print(\"QTY data are all correct!\")"
   ]
  },
  {
   "cell_type": "code",
   "execution_count": null,
   "metadata": {},
   "outputs": [
    {
     "name": "stdout",
     "output_type": "stream",
     "text": [
      "QTY of the day before:\n",
      "                       QTY\n",
      "UPDATE_DATE              \n",
      "2020-04-01 12:52:18  4396 \n",
      "\n",
      "QTY of the day after:\n",
      "                       QTY\n",
      "UPDATE_DATE              \n",
      "2020-04-16 13:21:04  4977 \n",
      "\n"
     ]
    }
   ],
   "source": [
    "process_error_data_02(data_tianzheng_assembly, get_date_list(data_tianzheng_assembly))"
   ]
  }
 ],
 "metadata": {
  "kernelspec": {
   "display_name": "Python [conda env:py37] *",
   "language": "python",
   "name": "conda-env-py37-py"
  },
  "language_info": {
   "codemirror_mode": {
    "name": "ipython",
    "version": 3
   },
   "file_extension": ".py",
   "mimetype": "text/x-python",
   "name": "python",
   "nbconvert_exporter": "python",
   "pygments_lexer": "ipython3",
   "version": "3.7.6"
  }
 },
 "nbformat": 4,
 "nbformat_minor": 4
}
