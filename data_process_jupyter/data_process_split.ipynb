{
 "cells": [
  {
   "cell_type": "code",
   "execution_count": 6,
   "metadata": {},
   "outputs": [],
   "source": [
    "import mars.dataframe as md\n",
    "import pandas as pd\n",
    "from datetime import datetime\n",
    "import time\n",
    "from multiprocessing import Pool\n",
    "import os"
   ]
  },
  {
   "cell_type": "code",
   "execution_count": 7,
   "metadata": {},
   "outputs": [],
   "source": [
    "data_path = \"F:/Projects/Python/data_process/csv/tg_zd_machine-04.csv\"\n",
    "data_tianzheng_all = md.read_csv(data_path).to_pandas()\n",
    "data_tianzheng_all.index = pd.DatetimeIndex(data_tianzheng_all[\"UPDATE_DATE\"])\n",
    "data_tianzheng_all = data_tianzheng_all.sort_index()"
   ]
  },
  {
   "cell_type": "code",
   "execution_count": 84,
   "metadata": {
    "scrolled": true
   },
   "outputs": [
    {
     "data": {
      "text/html": [
       "<div>\n",
       "<style scoped>\n",
       "    .dataframe tbody tr th:only-of-type {\n",
       "        vertical-align: middle;\n",
       "    }\n",
       "\n",
       "    .dataframe tbody tr th {\n",
       "        vertical-align: top;\n",
       "    }\n",
       "\n",
       "    .dataframe thead th {\n",
       "        text-align: right;\n",
       "    }\n",
       "</style>\n",
       "<table border=\"1\" class=\"dataframe\">\n",
       "  <thead>\n",
       "    <tr style=\"text-align: right;\">\n",
       "      <th></th>\n",
       "      <th>MACHINE_ID</th>\n",
       "      <th>ONTIME</th>\n",
       "      <th>WORKTIME</th>\n",
       "      <th>STOPTIME</th>\n",
       "      <th>QTY</th>\n",
       "      <th>PASS_QTY</th>\n",
       "      <th>REJECTS_QTY</th>\n",
       "      <th>BEAT</th>\n",
       "      <th>EFFICIENCY</th>\n",
       "      <th>STATUS</th>\n",
       "      <th>UPDATE_DATE</th>\n",
       "      <th>PDLINE_ID</th>\n",
       "    </tr>\n",
       "    <tr>\n",
       "      <th>UPDATE_DATE</th>\n",
       "      <th></th>\n",
       "      <th></th>\n",
       "      <th></th>\n",
       "      <th></th>\n",
       "      <th></th>\n",
       "      <th></th>\n",
       "      <th></th>\n",
       "      <th></th>\n",
       "      <th></th>\n",
       "      <th></th>\n",
       "      <th></th>\n",
       "      <th></th>\n",
       "    </tr>\n",
       "  </thead>\n",
       "  <tbody>\n",
       "    <tr>\n",
       "      <th>2020-04-01 07:17:41</th>\n",
       "      <td>10</td>\n",
       "      <td>23</td>\n",
       "      <td>0</td>\n",
       "      <td>23</td>\n",
       "      <td>0</td>\n",
       "      <td>NaN</td>\n",
       "      <td>0.0</td>\n",
       "      <td>409</td>\n",
       "      <td>0.0</td>\n",
       "      <td>0</td>\n",
       "      <td>2020/4/1 7:17:41</td>\n",
       "      <td>NaN</td>\n",
       "    </tr>\n",
       "    <tr>\n",
       "      <th>2020-04-01 07:18:05</th>\n",
       "      <td>10</td>\n",
       "      <td>47</td>\n",
       "      <td>0</td>\n",
       "      <td>47</td>\n",
       "      <td>0</td>\n",
       "      <td>NaN</td>\n",
       "      <td>0.0</td>\n",
       "      <td>409</td>\n",
       "      <td>0.0</td>\n",
       "      <td>0</td>\n",
       "      <td>2020/4/1 7:18:05</td>\n",
       "      <td>NaN</td>\n",
       "    </tr>\n",
       "    <tr>\n",
       "      <th>2020-04-01 07:19:13</th>\n",
       "      <td>11</td>\n",
       "      <td>88</td>\n",
       "      <td>0</td>\n",
       "      <td>88</td>\n",
       "      <td>0</td>\n",
       "      <td>NaN</td>\n",
       "      <td>0.0</td>\n",
       "      <td>33</td>\n",
       "      <td>0.0</td>\n",
       "      <td>0</td>\n",
       "      <td>2020/4/1 7:19:13</td>\n",
       "      <td>NaN</td>\n",
       "    </tr>\n",
       "    <tr>\n",
       "      <th>2020-04-01 07:19:17</th>\n",
       "      <td>3</td>\n",
       "      <td>146</td>\n",
       "      <td>0</td>\n",
       "      <td>0</td>\n",
       "      <td>0</td>\n",
       "      <td>NaN</td>\n",
       "      <td>0.0</td>\n",
       "      <td>139</td>\n",
       "      <td>0.0</td>\n",
       "      <td>0</td>\n",
       "      <td>2020/4/1 7:19:17</td>\n",
       "      <td>NaN</td>\n",
       "    </tr>\n",
       "    <tr>\n",
       "      <th>2020-04-01 07:19:30</th>\n",
       "      <td>12</td>\n",
       "      <td>0</td>\n",
       "      <td>0</td>\n",
       "      <td>0</td>\n",
       "      <td>0</td>\n",
       "      <td>NaN</td>\n",
       "      <td>0.0</td>\n",
       "      <td>3809</td>\n",
       "      <td>0.0</td>\n",
       "      <td>0</td>\n",
       "      <td>2020/4/1 7:19:30</td>\n",
       "      <td>NaN</td>\n",
       "    </tr>\n",
       "  </tbody>\n",
       "</table>\n",
       "</div>"
      ],
      "text/plain": [
       "                     MACHINE_ID  ONTIME  WORKTIME  STOPTIME  QTY  PASS_QTY  \\\n",
       "UPDATE_DATE                                                                  \n",
       "2020-04-01 07:17:41          10      23         0        23    0       NaN   \n",
       "2020-04-01 07:18:05          10      47         0        47    0       NaN   \n",
       "2020-04-01 07:19:13          11      88         0        88    0       NaN   \n",
       "2020-04-01 07:19:17           3     146         0         0    0       NaN   \n",
       "2020-04-01 07:19:30          12       0         0         0    0       NaN   \n",
       "\n",
       "                     REJECTS_QTY  BEAT  EFFICIENCY  STATUS       UPDATE_DATE  \\\n",
       "UPDATE_DATE                                                                    \n",
       "2020-04-01 07:17:41          0.0   409         0.0       0  2020/4/1 7:17:41   \n",
       "2020-04-01 07:18:05          0.0   409         0.0       0  2020/4/1 7:18:05   \n",
       "2020-04-01 07:19:13          0.0    33         0.0       0  2020/4/1 7:19:13   \n",
       "2020-04-01 07:19:17          0.0   139         0.0       0  2020/4/1 7:19:17   \n",
       "2020-04-01 07:19:30          0.0  3809         0.0       0  2020/4/1 7:19:30   \n",
       "\n",
       "                     PDLINE_ID  \n",
       "UPDATE_DATE                     \n",
       "2020-04-01 07:17:41        NaN  \n",
       "2020-04-01 07:18:05        NaN  \n",
       "2020-04-01 07:19:13        NaN  \n",
       "2020-04-01 07:19:17        NaN  \n",
       "2020-04-01 07:19:30        NaN  "
      ]
     },
     "execution_count": 84,
     "metadata": {},
     "output_type": "execute_result"
    }
   ],
   "source": [
    "data_tianzheng_all.head()"
   ]
  },
  {
   "cell_type": "code",
   "execution_count": 85,
   "metadata": {},
   "outputs": [
    {
     "data": {
      "text/plain": [
       "5537184"
      ]
     },
     "execution_count": 85,
     "metadata": {},
     "output_type": "execute_result"
    }
   ],
   "source": [
    "data_tianzheng_all.shape[0]"
   ]
  },
  {
   "cell_type": "code",
   "execution_count": 14,
   "metadata": {},
   "outputs": [
    {
     "name": "stdout",
     "output_type": "stream",
     "text": [
      "length of assembly line data:3069551\n",
      "length of checking line data:2467633\n"
     ]
    }
   ],
   "source": [
    "data_tianzheng_assembly = data_tianzheng_all.loc[data_tianzheng_all.PDLINE_ID.notnull()]\n",
    "data_tianzheng_checking = data_tianzheng_all.loc[data_tianzheng_all.PDLINE_ID.isnull()]\n",
    "print(\"length of assembly line data:{0}\".format(data_tianzheng_assembly.shape[0]))\n",
    "print(\"length of checking line data:{0}\".format(data_tianzheng_checking.shape[0]))"
   ]
  },
  {
   "cell_type": "code",
   "execution_count": 70,
   "metadata": {},
   "outputs": [],
   "source": [
    "def split_csv(data_csv):\n",
    "    if(2 in data_csv[\"PDLINE_ID\"].values.tolist()):\n",
    "        for i in range(1,13):\n",
    "            output = data_csv[data_csv[\"MACHINE_ID\"].isin([i])]\n",
    "            output.to_csv('F:/Projects/Python/data_process/csv/splited_data/data_tianzheng_assembly_{0}.csv'.format(i),\n",
    "                          index=None)\n",
    "    else:\n",
    "        for i in range(1,13):\n",
    "            output = data_csv[data_csv[\"MACHINE_ID\"].isin([i])]\n",
    "            output.to_csv('F:/Projects/Python/data_process/csv/splited_data/data_tianzheng_checking_{0}.csv'.format(i),\n",
    "                          index=None)          "
   ]
  },
  {
   "cell_type": "code",
   "execution_count": 71,
   "metadata": {},
   "outputs": [],
   "source": [
    "split_csv(data_tianzheng_assembly)\n",
    "split_csv(data_tianzheng_checking)"
   ]
  },
  {
   "cell_type": "code",
   "execution_count": 8,
   "metadata": {},
   "outputs": [
    {
     "name": "stdout",
     "output_type": "stream",
     "text": [
      "304524\n"
     ]
    }
   ],
   "source": [
    "data_tianzheng_assembly = md.read_csv('F:/Projects/Python/data_process/csv/splited_data/data_tianzheng_assembly_2.csv').to_pandas()\n",
    "data_tianzheng_assembly.index = pd.DatetimeIndex(data_tianzheng_assembly[\"UPDATE_DATE\"])\n",
    "data_len = data_tianzheng_assembly.shape[0]\n",
    "print(data_len)"
   ]
  },
  {
   "cell_type": "code",
   "execution_count": 10,
   "metadata": {},
   "outputs": [],
   "source": [
    "def process_error_data_01(data):   \n",
    "    for index, row in data.iterrows():\n",
    "        if row['ONTIME'] != row['WORKTIME'] + row['STOPTIME']:\n",
    "#             print(index, row['MACHINE_ID'] ,row['PDLINE_ID'])\n",
    "            data.drop(index = index, axis=0, inplace=True)"
   ]
  },
  {
   "cell_type": "code",
   "execution_count": 11,
   "metadata": {},
   "outputs": [
    {
     "name": "stdout",
     "output_type": "stream",
     "text": [
      "Processing time 214.02 seconds.\n"
     ]
    }
   ],
   "source": [
    "start = time.time()\n",
    "process_error_data_01(data_tianzheng_assembly)\n",
    "end = time.time()\n",
    "print('Processing time %0.2f seconds.' % (end - start))"
   ]
  }
 ],
 "metadata": {
  "kernelspec": {
   "display_name": "Python [conda env:py37] *",
   "language": "python",
   "name": "conda-env-py37-py"
  },
  "language_info": {
   "codemirror_mode": {
    "name": "ipython",
    "version": 3
   },
   "file_extension": ".py",
   "mimetype": "text/x-python",
   "name": "python",
   "nbconvert_exporter": "python",
   "pygments_lexer": "ipython3",
   "version": "3.7.6"
  }
 },
 "nbformat": 4,
 "nbformat_minor": 4
}
